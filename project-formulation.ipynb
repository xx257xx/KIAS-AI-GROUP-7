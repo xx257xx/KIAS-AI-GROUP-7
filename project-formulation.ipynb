{
 "cells": [
  {
   "attachments": {},
   "cell_type": "markdown",
   "metadata": {},
   "source": [
    "# Project - Finding Green's functions\n",
    "\n",
    "\n",
    "We will solve the inhomogeneous Helmholtz equation :\n",
    "$    \\begin{equation}\n",
    "        (-\\nabla^2 + k^2)u = u_{xx} + u_{yy} + u_{zz} + k^2 u = f \\text{ for } {\\rm {\\bf r}} \\in S\n",
    "    \\end{equation}$\n",
    "for a given boundary $\\partial S$ with the boundary conditions\n",
    "$    \\begin{equation}\n",
    "        u({\\rm {\\bf r}}) = 0, \\text{ for } {\\rm {\\bf r}} \\in \\partial S.\n",
    "    \\end{equation}$\n",
    "To solve the equation, we can apply the Green's function $G$, which is a solution of the below equation:\n",
    "$    \\begin{equation}\n",
    "        (-\\nabla^2 + k^2)G({\\rm {\\bf r}}, {\\rm {\\bf R}}) = \\delta({\\rm {\\bf r - R}}).\n",
    "    \\end{equation}$\n",
    "Thus the solution of the inhomogeneous equation is\n",
    "$    \\begin{equation}\n",
    "        u({\\rm {\\bf r}}) = \\int_S G({\\rm {\\bf r}}, {\\rm {\\bf R}})f({\\rm {\\bf R}}) d {\\rm {\\bf R}}.\n",
    "    \\end{equation}$"
   ]
  },
  {
   "attachments": {},
   "cell_type": "markdown",
   "metadata": {},
   "source": [
    "# Deep ritz method\n",
    "\n",
    "\n",
    "The loss function is given by   \n",
    "\n",
    "$    \\begin{equation}\n",
    "        \\int_{S} \\left( \\frac{1}{2} |\\nabla G_{nn}|^2 + \\frac{1}{2} k^2 G_{nn}^2 - G_{nn}\\delta({\\rm{\\bf r - R}}) \\right) d{\\rm \\bf r} + \\beta \\cdot \\int_{\\partial S} G_{nn}(x,y)^2 d{\\rm{ \\bf r}}.\n",
    "    \\end{equation}$\n",
    "\n",
    "$    \\begin{equation}\n",
    "        \\int_{S} \\left( \\frac{1}{2} |\\nabla G_{nn}|^2 + \\frac{1}{2} k^2 G_{nn}^2 \\right) d{\\rm \\bf r} - G_{nn}({\\rm \\bf R}, {\\rm \\bf R}) + \\beta \\cdot \\int_{\\partial S} G_{nn}(x,y)^2 d{\\rm{ \\bf r}}.\n",
    "    \\end{equation}$"
   ]
  },
  {
   "attachments": {},
   "cell_type": "markdown",
   "metadata": {},
   "source": [
    "# Relaxation\n",
    "\n",
    "Since the $G_{nn} (R,R)$ is not a finite number in many cases, we should approximate the delta function with substitute functions(e.g. Gaussian).\n",
    "By constructing a sequence of substitute functions that converge to the delta function, we can expect the solution could converge to Green's function.\n"
   ]
  },
  {
   "attachments": {},
   "cell_type": "markdown",
   "metadata": {},
   "source": [
    "# Mollifier 1: Gaussian\n",
    "\n",
    "For example, using Gaussians,\n",
    "$    \\begin{equation}\n",
    "        (\\nabla^2 + k^2)G_{n}({\\rm {\\bf r}}, {\\rm {\\bf R}}) = M_n({\\rm \\bf r, R}) := \\frac{1}{\\sqrt{2\\pi}\\sigma}e^{-\\frac{({\\rm \\bf r-R})^2}{n^2 \\sigma^2}}\n",
    "    \\end{equation}$\n",
    "where $\\sigma$ is given. If $n \\rightarrow \\infty$, $G_n \\rightarrow G$.\n",
    "\n",
    "\n",
    "In this case, our loss function for each $n$ is\n",
    "    $\\begin{equation}\n",
    "        \\int_{S} \\left( \\frac{1}{2} |\\nabla G_{nn}|^2 + \\frac{1}{2} k^2 G_{nn}^2 - G_{nn}\\frac{1}{\\sqrt{2\\pi}\\sigma}e^{-\\frac{({\\rm \\bf r-R})^2}{n^2 \\sigma^2}} \\right) d{\\rm \\bf r} + \\beta \\cdot \\int_{\\partial S} G_{nn}(x,y)^2 d{\\rm{ \\bf r}}.\n",
    "    \\end{equation}$\n"
   ]
  },
  {
   "attachments": {},
   "cell_type": "markdown",
   "metadata": {},
   "source": [
    "# Mollifier 2: bump function\n",
    "\n",
    "$\\begin{equation}\n",
    "    M_n({\\rm \\bf r, R}) = \\frac{1}{I_n}e^{-\\frac{1}{1-|{\\rm \\bf r} - {\\rm \\bf R}|^2/\\sigma^2}}\n",
    "\\end{equation}$\n",
    "\n",
    "if $|{\\rm \\bf r} - {\\rm \\bf R}| < \\sigma$. Otherwise, $M_n = 0$. $I_n$ is a normalization factor."
   ]
  },
  {
   "cell_type": "markdown",
   "metadata": {},
   "source": [
    "# True Green's function"
   ]
  },
  {
   "cell_type": "markdown",
   "metadata": {},
   "source": [
    "For eigenfunctions $\\psi_n$ such that $L\\psi_n = \\lambda_n \\psi_n$, Green's function of $L$ can be evaluated by the following formula.\n",
    "\n",
    "\n",
    "$\\begin{equation}\n",
    "    G({\\rm \\bf r, R}) = \\sum_n \\frac{\\psi_n ({\\rm \\bf r})\\psi_n ({\\rm \\bf R})}{\\lambda_n}\n",
    "\\end{equation}$\n",
    "\n",
    "### 1. 2d Square\n",
    "\n",
    "For $S = [0,1]^2$,\n",
    "$\\begin{equation}\n",
    "    \\psi_{n_x, n_y, n_z} = \\sqrt{2^3} {\\rm sin}(n_x\\pi x){\\rm sin}(n_y\\pi y){\\rm sin}(n_z\\pi z),\n",
    "\\end{equation}$\n",
    "$\\begin{equation}\n",
    "    \\lambda_{n_x, n_y, n_z} = (n_x^2 + n_y^2 + n_z^2)\\pi^2 + k^2\n",
    "\\end{equation}$"
   ]
  },
  {
   "cell_type": "markdown",
   "metadata": {},
   "source": [
    "### 2. 2d Disk\n",
    "For 2D disk whose radius is 1,\n",
    "$\\begin{equation}\n",
    "    \\psi_{nm} = \\frac{2}{J_{n+1}(z_{nm})^2} J_{n}(z_{nm}r) e^{in\\theta},\n",
    "\\end{equation}$\n",
    "$\\begin{equation}\n",
    "    \\lambda_{nm} = z_{nm}^2 + k^2\n",
    "\\end{equation}$\n",
    "\n",
    "Thus,\n",
    "$\\begin{equation}\n",
    "    G({\\rm \\bf r_1, r_2}) = \\sum_{nm} \\frac{\\psi_{nm}({\\rm \\bf r_1}) \\psi_{nm}({\\rm \\bf r_2})}{\\lambda_{nm}}\n",
    "                          = \\sum_{n = -\\infty}^{\\infty} \\sum_{m = 1} \\frac{4}{J_{n+1}(z_{nm})^4(-z_{nm}^2 + k^2)} J_{n}(z_{nm}r_1)J_{n}(z_{nm}r_2) e^{in(\\theta_2 - \\theta_1)}\n",
    "\\end{equation}$"
   ]
  },
  {
   "cell_type": "markdown",
   "metadata": {},
   "source": [
    "### 3. 2d Equilateral Triangle\n",
    "Reference) https://pmc.polytechnique.fr/pagesperso/dg/publi/2013_06.pdf   \n",
    "\n",
    "$\\begin{equation}\n",
    "    \\psi_{mn} = \\sum_{m', n'}(\\sigma_{m'n'})e^{2\\pi i/3 \\left(m'x + (2n'-m')y/\\sqrt{3}\\right)},\n",
    "\\end{equation}$\n",
    "$\\begin{equation}\n",
    "    \\lambda_{mn} = \\frac{16}{27}\\pi^2 (m^2 + n^2 - mn)\n",
    "\\end{equation}$\n",
    "\n",
    "where $m + n = 0$ (mod 3), $ m \\neq 2m$, and $n \\neq 2m$.   \n",
    "For given $(m, n)$,   \n",
    "$(m', n', \\sigma_{m'n'}) \\in \\{(-n, m-n, +1), (-n, -m, -1), (n-m, -m, +1), (n-m, n, -1), (m, n, +1), (m, m-n, -1)\\}$"
   ]
  },
  {
   "cell_type": "markdown",
   "metadata": {},
   "source": [
    "### 4. 3d Sphere\n",
    "For 3D sphere whose radius is 1,\n",
    "$\\begin{equation}\n",
    "    \\psi_{nlm} = A_{nlm} j_{l}(\\beta_{nl}r) Y_{l}^{m}(\\theta, \\phi),\n",
    "\\end{equation}$\n",
    "$\\begin{equation}\n",
    "    \\lambda_{nlm} = \\beta_{nl}^2 + k^2\n",
    "\\end{equation}$\n",
    "\n",
    "Thus,\n",
    "$\\begin{equation}\n",
    "    G({\\rm \\bf r_1, r_2}) = \\sum_{nlm} \\frac{\\psi_{nlm}({\\rm \\bf r_1}) \\psi_{nlm}({\\rm \\bf r_2})}{\\lambda_{nlm}}\n",
    "                          = \\sum_{n = 1} \\sum_{l = 0} \\frac{A_{nlm}^2}{-\\beta_{nl}^2 + k^2} \\frac{2l+1}{4\\pi} j_{l}(\\beta_{nl}r_1)j_{l}(\\beta_{nl}r_2) P_l \\left[ cos\\theta_1 cos\\theta_2 + cos(\\phi_1 - \\phi_2) sin\\theta_1 sin\\theta_2 \\right]\n",
    "\\end{equation}$"
   ]
  },
  {
   "cell_type": "markdown",
   "metadata": {},
   "source": [
    "# Another Method: Using Green's Function with No Boundary"
   ]
  },
  {
   "cell_type": "markdown",
   "metadata": {},
   "source": [
    "Unfortunately, the mollifier method previously mentioned did not work.\n",
    "We already know the Green's functions with no boundary, say $G_0$, and the Deep Ritz method works without the mollifier and with an arbitrary Dirichlet condition.\n",
    "Therefore, by setting the boundary value as that of $G_0$, we can obtain the solution of the Helmholtz equation.\n",
    "\n",
    "$\\begin{eqnarray}\n",
    "(-\\nabla^2 + k^2) G_0 =& \\delta({\\rm \\bf r - R}) &&\\text{ for } {\\rm \\bf r} \\in S\n",
    "\\end{eqnarray}$\n",
    "\n",
    "$\\begin{eqnarray}\n",
    "(-\\nabla^2 + k^2) \\eta =& 0 &&\\text{ for } {\\rm \\bf r} \\in S, \\\\\n",
    "\\eta = &G_0 &&\\text{ for } {\\rm \\bf r} \\in \\partial S.\n",
    "\\end{eqnarray}$\n",
    "\n",
    "Then, by subtracting the two equations,\n",
    "\n",
    "$\\begin{eqnarray}\n",
    "(-\\nabla^2 + k^2) (G_0 - \\eta) =& \\delta({\\rm \\bf r - R}) &&\\text{ for } {\\rm \\bf r} \\in S, \\\\\n",
    "(G_0 - \\eta) = &G_0 &&\\text{ for } {\\rm \\bf r} \\in \\partial S.\n",
    "\\end{eqnarray}$\n",
    "\n",
    "Therefore, our desired Green's function satisfying the original boundary condition is $G_0 - \\eta$."
   ]
  },
  {
   "cell_type": "markdown",
   "metadata": {},
   "source": [
    "## Analytic Green's function without boundary"
   ]
  },
  {
   "cell_type": "markdown",
   "metadata": {},
   "source": [
    "For a two-dimensional square boundary, \n",
    "1. $k = 0$, \n",
    "$\\begin{equation}\n",
    "    G_0({\\rm \\bf r}, {\\rm \\bf R}) = \\frac{1}{2\\pi}\\textrm{log}(\\sqrt{(x - X)^2 + (y - Y)^2})\n",
    "\\end{equation}$\n",
    "\n",
    "2. $k \\neq 0$, \n",
    "$\\begin{equation}\n",
    "    G_0({\\rm \\bf r}, {\\rm \\bf R}) = \\frac{1}{4i}H_0^{(1)}(\\sqrt{(x - X)^2 + (y - Y)^2})\n",
    "\\end{equation}$"
   ]
  },
  {
   "cell_type": "code",
   "execution_count": null,
   "metadata": {},
   "outputs": [],
   "source": []
  }
 ],
 "metadata": {
  "kernelspec": {
   "display_name": "Python 3 (ipykernel)",
   "language": "python",
   "name": "python3"
  },
  "language_info": {
   "codemirror_mode": {
    "name": "ipython",
    "version": 3
   },
   "file_extension": ".py",
   "mimetype": "text/x-python",
   "name": "python",
   "nbconvert_exporter": "python",
   "pygments_lexer": "ipython3",
   "version": "3.11.2"
  }
 },
 "nbformat": 4,
 "nbformat_minor": 4
}
