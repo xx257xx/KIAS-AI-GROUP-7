{
 "cells": [
  {
   "attachments": {},
   "cell_type": "markdown",
   "metadata": {},
   "source": [
    "# 2. Physics Informed Neural Networks"
   ]
  },
  {
   "cell_type": "code",
   "execution_count": 16,
   "metadata": {
    "ExecuteTime": {
     "end_time": "2022-07-13T02:48:40.896924Z",
     "start_time": "2022-07-13T02:48:39.908211Z"
    },
    "slideshow": {
     "slide_type": "slide"
    }
   },
   "outputs": [],
   "source": [
    "import numpy as np\n",
    "import matplotlib.pyplot as plt\n",
    "from mpl_toolkits.mplot3d import Axes3D\n",
    "\n",
    "from IPython.display import clear_output\n",
    "\n",
    "import torch\n",
    "import torch.nn as nn\n",
    "import torch.optim as optim\n",
    "import torch.nn.functional as F"
   ]
  },
  {
   "cell_type": "code",
   "execution_count": 2,
   "metadata": {
    "ExecuteTime": {
     "end_time": "2022-07-13T02:48:40.902284Z",
     "start_time": "2022-07-13T02:48:40.899147Z"
    },
    "slideshow": {
     "slide_type": "slide"
    }
   },
   "outputs": [],
   "source": [
    "device = torch.device('cuda:0')"
   ]
  },
  {
   "attachments": {},
   "cell_type": "markdown",
   "metadata": {},
   "source": [
    "# Project - Finding Green's functions\n",
    "\n",
    "\n",
    "We will solve the inhomogeneous Helmholtz equation :\n",
    "$    \\begin{equation}\n",
    "        (\\nabla^2 + k^2)u = u_{xx} + u_{yy} + u_{zz} + k^2 u = f \\text{ for } {\\rm {\\bf r}} \\in S\n",
    "    \\end{equation}$\n",
    "for a given boundary $\\partial S$ with the boundary conditions\n",
    "$    \\begin{equation}\n",
    "        u({\\rm {\\bf r}}) = 0, \\text{ for } {\\rm {\\bf r}} \\in \\partial S.\n",
    "    \\end{equation}$\n",
    "To solve the equation, we can apply the Green's function $G$, which is a solution of the below equation:\n",
    "$    \\begin{equation}\n",
    "        (\\nabla^2 + k^2)G({\\rm {\\bf r}}, {\\rm {\\bf R}}) = \\delta({\\rm {\\bf r - R}}).\n",
    "    \\end{equation}$\n",
    "Thus the solution of the inhomogeneous equation is\n",
    "$    \\begin{equation}\n",
    "        u({\\rm {\\bf r}}) = \\int_S G({\\rm {\\bf r}}, {\\rm {\\bf R}})f({\\rm {\\bf R}}) d {\\rm {\\bf R}}.\n",
    "    \\end{equation}$"
   ]
  },
  {
   "attachments": {},
   "cell_type": "markdown",
   "metadata": {},
   "source": [
    "# Deep ritz method\n",
    "\n",
    "\n",
    "    The loss function is given by\n",
    "$    \\begin{equation}\n",
    "        \\int_{S} \\left( \\frac{1}{2} |\\nabla G_{nn}|^2 + \\frac{1}{2} k^2 G_{nn}^2 - G_{nn}\\delta({\\rm{\\bf r - R}}) \\right) d{\\rm \\bf r} + \\beta \\cdot \\int_{\\partial S} G_{nn}(x,y)^2 d{\\rm{ \\bf r}}.\n",
    "    \\end{equation}$\n",
    "\n",
    "$    \\begin{equation}\n",
    "        \\int_{S} \\left( \\frac{1}{2} |\\nabla G_{nn}|^2 + \\frac{1}{2} k^2 G_{nn}^2 \\right) d{\\rm \\bf r} - G_{nn}({\\rm \\bf R}, {\\rm \\bf R}) + \\beta \\cdot \\int_{\\partial S} G_{nn}(x,y)^2 d{\\rm{ \\bf r}}.\n",
    "    \\end{equation}$\n",
    "\n",
    "Note that Lagrangian: https://en.wikipedia.org/wiki/Lagrangian_(field_theory)"
   ]
  },
  {
   "attachments": {},
   "cell_type": "markdown",
   "metadata": {},
   "source": [
    "# Relaxation\n",
    "\n",
    "Since the $G_{nn} (R,R)$ is not a finite number in many cases, we should approximate the delta function with substitute functions(e.g. Gaussian).\n",
    "By constructing a sequence of substitute functions that converge to the delta function, we can expect the solution could converge to Green's function.\n"
   ]
  },
  {
   "attachments": {},
   "cell_type": "markdown",
   "metadata": {},
   "source": [
    "# Mollifier 1: Gaussian\n",
    "\n",
    "For example, using Gaussians,\n",
    "$    \\begin{equation}\n",
    "        (\\nabla^2 + k^2)G_{n}({\\rm {\\bf r}}, {\\rm {\\bf R}}) = M_n({\\rm \\bf r, R}) := \\frac{1}{\\sqrt{2\\pi}\\sigma}e^{-\\frac{({\\rm \\bf r-R})^2}{n^2 \\sigma^2}}\n",
    "    \\end{equation}$\n",
    "where $\\sigma$ is given. If $n \\rightarrow \\infty$, $G_n \\rightarrow G$.\n",
    "\n",
    "\n",
    "In this case, our loss function for each $n$ is\n",
    "    $\\begin{equation}\n",
    "        \\int_{S} \\left( \\frac{1}{2} |\\nabla G_{nn}|^2 + \\frac{1}{2} k^2 G_{nn}^2 - G_{nn}\\frac{1}{\\sqrt{2\\pi}\\sigma}e^{-\\frac{({\\rm \\bf r-R})^2}{n^2 \\sigma^2}} \\right) d{\\rm \\bf r} + \\beta \\cdot \\int_{\\partial S} G_{nn}(x,y)^2 d{\\rm{ \\bf r}}.\n",
    "    \\end{equation}$\n"
   ]
  },
  {
   "attachments": {},
   "cell_type": "markdown",
   "metadata": {},
   "source": [
    "# Mollifier 2: bump function\n",
    "\n",
    "$\\begin{equation}\n",
    "    M_n({\\rm \\bf r, R}) = \\frac{1}{I_n}e^{-\\frac{1}{1-|{\\rm \\bf r} - {\\rm \\bf R}|^2/\\sigma^2}}\n",
    "\\end{equation}$\n",
    "\n",
    "if $|{\\rm \\bf r} - {\\rm \\bf R}| < \\sigma$. Otherwise, $M_n = 0$. $I_n$ is a normalization factor."
   ]
  },
  {
   "attachments": {},
   "cell_type": "markdown",
   "metadata": {},
   "source": []
  }
 ],
 "metadata": {
  "kernelspec": {
   "display_name": "Python 3 (ipykernel)",
   "language": "python",
   "name": "python3"
  },
  "language_info": {
   "codemirror_mode": {
    "name": "ipython",
    "version": 3
   },
   "file_extension": ".py",
   "mimetype": "text/x-python",
   "name": "python",
   "nbconvert_exporter": "python",
   "pygments_lexer": "ipython3",
   "version": "3.11.2"
  }
 },
 "nbformat": 4,
 "nbformat_minor": 4
}
